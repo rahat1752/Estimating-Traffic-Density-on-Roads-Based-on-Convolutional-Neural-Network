{
  "nbformat": 4,
  "nbformat_minor": 0,
  "metadata": {
    "accelerator": "GPU",
    "colab": {
      "name": "FinalModel_250.ipynb",
      "provenance": []
    },
    "kernelspec": {
      "display_name": "Python 3",
      "name": "python3"
    },
    "language_info": {
      "name": "python"
    }
  },
  "cells": [
    {
      "cell_type": "code",
      "metadata": {
        "colab": {
          "base_uri": "https://localhost:8080/"
        },
        "id": "5Qe45le3u2ML",
        "outputId": "877778a4-65f3-4961-c60a-b02bac676e65"
      },
      "source": [
        "from google.colab import drive\n",
        "drive.mount('/content/gdrive')"
      ],
      "execution_count": null,
      "outputs": [
        {
          "output_type": "stream",
          "text": [
            "Mounted at /content/gdrive\n"
          ],
          "name": "stdout"
        }
      ]
    },
    {
      "cell_type": "code",
      "metadata": {
        "colab": {
          "base_uri": "https://localhost:8080/"
        },
        "id": "COsbOMzAvbyF",
        "outputId": "c6cc8bce-13bf-4bb5-bba0-ed1bc88f29e3"
      },
      "source": [
        "!ln -s /content/gdrive/My\\ Drive/ /mydrive\n",
        "!ls /mydrive"
      ],
      "execution_count": null,
      "outputs": [
        {
          "output_type": "stream",
          "text": [
            "ln: failed to create symbolic link '/mydrive/My Drive': File exists\n",
            " 1e93121c-7ed4-4f3b-ac48-93cd4d673968.jpg  'Hum Assignments'\n",
            "'2.1 math'\t\t\t\t    IMG_20210101_101719.jpg\n",
            " 3.1\t\t\t\t\t    IMG_20210101_170308.jpg\n",
            " 3.2\t\t\t\t\t   'My Drive'\n",
            "'Bandarban 2021'\t\t\t    NID.pdf\n",
            " Classroom\t\t\t\t   'saaint martin tour'\n",
            "'Colab Notebooks'\t\t\t    Shafi\n",
            " dataset\t\t\t\t    test\n",
            "'Family Get-together'\t\t\t    WP\n",
            "'Fish n Chips'\t\t\t\t    yolov4\n",
            "'Getting started.pdf'\t\t\t   'পেদা টিং টিং'\n"
          ],
          "name": "stdout"
        }
      ]
    },
    {
      "cell_type": "code",
      "metadata": {
        "colab": {
          "base_uri": "https://localhost:8080/"
        },
        "id": "92FcZapIvb9d",
        "outputId": "a4fb8f27-2f52-4964-ac1e-cd02a7848689"
      },
      "source": [
        "import tensorflow as tf\n",
        "import matplotlib.pyplot as plt\n",
        "import os\n",
        "import cv2\n",
        "import numpy as np\n",
        "import keras\n",
        "\n",
        "from tensorflow.keras.preprocessing.image import ImageDataGenerator\n",
        "from tensorflow.keras.preprocessing import image\n",
        "from tensorflow.keras.models import Sequential\n",
        "from tensorflow.keras.layers import Conv2D, MaxPooling2D\n",
        "from tensorflow.keras.layers import BatchNormalization\n",
        "from tensorflow.keras.layers import Dropout\n",
        "from tensorflow.keras.layers import Dense, Flatten\n",
        "from tensorflow.keras.optimizers import RMSprop\n",
        "from tensorflow.keras.optimizers import Adam\n",
        "\n",
        "\n",
        "\n",
        "train_datagen = ImageDataGenerator(\n",
        "        rescale=1./255,\n",
        "        shear_range=0.2,\n",
        "        zoom_range=0.5,\n",
        "        horizontal_flip=True,\n",
        "        brightness_range=[1.0,2.0],\n",
        "        #validation_split=0.5\n",
        "        )\n",
        "train_generator = train_datagen.flow_from_directory(\n",
        "        r'/mydrive/dataset/Final Dataset/training',\n",
        "        target_size=(200, 200),\n",
        "        color_mode='grayscale',\n",
        "        batch_size=64,\n",
        "        shuffle=True,\n",
        "        class_mode='categorical',\n",
        "        seed=42,\n",
        "        #subset=\"training\",\n",
        "        #save_to_dir=r'C:\\Users\\Mahmudul Hasan\\AppData\\Local\\Programs\\Python\\Python38\\Scripts\\training set\\cars',\n",
        "        #save_prefix='',\n",
        "        #save_format='png'\n",
        "        )\n",
        "\n",
        "valid_datagen = ImageDataGenerator(rescale=1./255)\n",
        "valid_generator = valid_datagen.flow_from_directory(\n",
        "        r'/mydrive/dataset/Final Dataset/validation',\n",
        "        target_size=(200, 200),\n",
        "        color_mode='grayscale',\n",
        "        batch_size=64,\n",
        "        class_mode='categorical',\n",
        "        shuffle=True,\n",
        "        seed=42,\n",
        "        #subset=\"training\",\n",
        "        #save_to_dir=r'C:\\Users\\Mahmudul Hasan\\AppData\\Local\\Programs\\Python\\Python38\\Scripts\\training set\\cars',\n",
        "        #save_prefix='',\n",
        "        #save_format='png'\n",
        "        )\n",
        "\n",
        "\n",
        "train_generator.class_indices\n",
        "train_generator.classes"
      ],
      "execution_count": null,
      "outputs": [
        {
          "output_type": "stream",
          "text": [
            "Found 3388 images belonging to 5 classes.\n",
            "Found 340 images belonging to 5 classes.\n"
          ],
          "name": "stdout"
        },
        {
          "output_type": "execute_result",
          "data": {
            "text/plain": [
              "array([0, 0, 0, ..., 4, 4, 4], dtype=int32)"
            ]
          },
          "metadata": {
            "tags": []
          },
          "execution_count": 5
        }
      ]
    },
    {
      "cell_type": "code",
      "metadata": {
        "id": "cQCoLd3Gvb-2"
      },
      "source": [
        "model=Sequential()\n",
        " \n",
        "model.add(Conv2D(64,kernel_size=(9,9),activation='relu',padding='same',input_shape=(200,200,1)))\n",
        "model.add(BatchNormalization())\n",
        "model.add(MaxPooling2D(pool_size=(2, 2)))\n",
        "#model.add(BatchNormalization())\n",
        "#model.add(Dropout(0.2))\n",
        " \n",
        "model.add(Conv2D(128,kernel_size=(7,7),activation='relu',padding='same',))\n",
        "model.add(BatchNormalization())\n",
        "model.add(MaxPooling2D(pool_size=(2, 2)))\n",
        "#model.add(BatchNormalization())\n",
        "#model.add(Dropout(0.3))\n",
        " \n",
        "model.add(Conv2D(256,kernel_size=(5,5),activation='relu',padding='same',))\n",
        "model.add(BatchNormalization())\n",
        "model.add(MaxPooling2D(pool_size=(2, 2)))\n",
        "#model.add(BatchNormalization())\n",
        "#model.add(Dropout(0.4))\n",
        "\n",
        "model.add(Conv2D(512,kernel_size=(3,3),activation='relu',padding='same',))\n",
        "model.add(BatchNormalization())\n",
        "model.add(MaxPooling2D(pool_size=(2, 2)))\n",
        "#model.add(BatchNormalization())\n",
        "#model.add(Dropout(0.5))\n",
        "\n",
        "model.add(Flatten())\n",
        "model.add(Dense(512))\n",
        "model.add(Dense(128,activation='relu'))\n",
        "model.add(Dense(5,activation='softmax'))"
      ],
      "execution_count": null,
      "outputs": []
    },
    {
      "cell_type": "code",
      "metadata": {
        "colab": {
          "base_uri": "https://localhost:8080/"
        },
        "id": "4KFLb_ZqvcDl",
        "outputId": "d58ddcd2-e173-42b1-fda8-7a2aa3a214c4"
      },
      "source": [
        "model.summary()"
      ],
      "execution_count": null,
      "outputs": [
        {
          "output_type": "stream",
          "text": [
            "Model: \"sequential\"\n",
            "_________________________________________________________________\n",
            "Layer (type)                 Output Shape              Param #   \n",
            "=================================================================\n",
            "conv2d (Conv2D)              (None, 200, 200, 64)      5248      \n",
            "_________________________________________________________________\n",
            "batch_normalization (BatchNo (None, 200, 200, 64)      256       \n",
            "_________________________________________________________________\n",
            "max_pooling2d (MaxPooling2D) (None, 100, 100, 64)      0         \n",
            "_________________________________________________________________\n",
            "conv2d_1 (Conv2D)            (None, 100, 100, 128)     401536    \n",
            "_________________________________________________________________\n",
            "batch_normalization_1 (Batch (None, 100, 100, 128)     512       \n",
            "_________________________________________________________________\n",
            "max_pooling2d_1 (MaxPooling2 (None, 50, 50, 128)       0         \n",
            "_________________________________________________________________\n",
            "conv2d_2 (Conv2D)            (None, 50, 50, 256)       819456    \n",
            "_________________________________________________________________\n",
            "batch_normalization_2 (Batch (None, 50, 50, 256)       1024      \n",
            "_________________________________________________________________\n",
            "max_pooling2d_2 (MaxPooling2 (None, 25, 25, 256)       0         \n",
            "_________________________________________________________________\n",
            "conv2d_3 (Conv2D)            (None, 25, 25, 512)       1180160   \n",
            "_________________________________________________________________\n",
            "batch_normalization_3 (Batch (None, 25, 25, 512)       2048      \n",
            "_________________________________________________________________\n",
            "max_pooling2d_3 (MaxPooling2 (None, 12, 12, 512)       0         \n",
            "_________________________________________________________________\n",
            "flatten (Flatten)            (None, 73728)             0         \n",
            "_________________________________________________________________\n",
            "dense (Dense)                (None, 512)               37749248  \n",
            "_________________________________________________________________\n",
            "dense_1 (Dense)              (None, 128)               65664     \n",
            "_________________________________________________________________\n",
            "dense_2 (Dense)              (None, 5)                 645       \n",
            "=================================================================\n",
            "Total params: 40,225,797\n",
            "Trainable params: 40,223,877\n",
            "Non-trainable params: 1,920\n",
            "_________________________________________________________________\n"
          ],
          "name": "stdout"
        }
      ]
    },
    {
      "cell_type": "code",
      "metadata": {
        "id": "ieUSYrUkvcFB"
      },
      "source": [
        "model.compile(loss='categorical_crossentropy', \n",
        "              #optimizer=RMSprop(lr=0.0001),\n",
        "              optimizer=Adam(learning_rate=0.0001),\n",
        "             metrics=['accuracy'])"
      ],
      "execution_count": null,
      "outputs": []
    },
    {
      "cell_type": "code",
      "metadata": {
        "colab": {
          "base_uri": "https://localhost:8080/"
        },
        "id": "rNtFa5djvcJJ",
        "outputId": "8e8377bc-e37f-40a3-e9cd-b5806512ceac"
      },
      "source": [
        "history=model.fit(train_generator,\n",
        "                    epochs=250,\n",
        "                    validation_data=valid_generator,\n",
        "                    )"
      ],
      "execution_count": null,
      "outputs": [
        {
          "output_type": "stream",
          "text": [
            "Epoch 1/250\n",
            "54/54 [==============================] - 2001s 37s/step - loss: 8.1659 - accuracy: 0.3836 - val_loss: 2.8874 - val_accuracy: 0.2765\n",
            "Epoch 2/250\n",
            "54/54 [==============================] - 37s 686ms/step - loss: 1.3805 - accuracy: 0.5128 - val_loss: 2.3592 - val_accuracy: 0.3382\n",
            "Epoch 3/250\n",
            "54/54 [==============================] - 37s 680ms/step - loss: 1.6294 - accuracy: 0.4971 - val_loss: 1.9231 - val_accuracy: 0.3382\n",
            "Epoch 4/250\n",
            "54/54 [==============================] - 37s 678ms/step - loss: 1.2561 - accuracy: 0.5276 - val_loss: 1.9531 - val_accuracy: 0.3529\n",
            "Epoch 5/250\n",
            "54/54 [==============================] - 37s 679ms/step - loss: 1.1553 - accuracy: 0.5604 - val_loss: 2.5126 - val_accuracy: 0.3529\n",
            "Epoch 6/250\n",
            "54/54 [==============================] - 37s 679ms/step - loss: 1.2259 - accuracy: 0.5443 - val_loss: 2.3926 - val_accuracy: 0.3529\n",
            "Epoch 7/250\n",
            "54/54 [==============================] - 37s 679ms/step - loss: 1.0332 - accuracy: 0.5611 - val_loss: 1.9833 - val_accuracy: 0.3588\n",
            "Epoch 8/250\n",
            "54/54 [==============================] - 37s 679ms/step - loss: 0.9425 - accuracy: 0.6137 - val_loss: 1.6441 - val_accuracy: 0.3529\n",
            "Epoch 9/250\n",
            "54/54 [==============================] - 37s 687ms/step - loss: 0.9514 - accuracy: 0.5915 - val_loss: 1.2312 - val_accuracy: 0.5088\n",
            "Epoch 10/250\n",
            "54/54 [==============================] - 37s 683ms/step - loss: 0.8652 - accuracy: 0.6561 - val_loss: 0.9587 - val_accuracy: 0.5647\n",
            "Epoch 11/250\n",
            "54/54 [==============================] - 37s 682ms/step - loss: 0.8232 - accuracy: 0.6531 - val_loss: 1.0230 - val_accuracy: 0.5324\n",
            "Epoch 12/250\n",
            "54/54 [==============================] - 37s 676ms/step - loss: 0.9065 - accuracy: 0.6297 - val_loss: 0.8475 - val_accuracy: 0.6441\n",
            "Epoch 13/250\n",
            "54/54 [==============================] - 37s 676ms/step - loss: 0.8196 - accuracy: 0.6553 - val_loss: 0.8111 - val_accuracy: 0.6559\n",
            "Epoch 14/250\n",
            "54/54 [==============================] - 37s 685ms/step - loss: 0.7832 - accuracy: 0.6805 - val_loss: 1.1514 - val_accuracy: 0.6647\n",
            "Epoch 15/250\n",
            "54/54 [==============================] - 37s 685ms/step - loss: 0.7796 - accuracy: 0.6841 - val_loss: 0.8956 - val_accuracy: 0.6588\n",
            "Epoch 16/250\n",
            "54/54 [==============================] - 37s 693ms/step - loss: 0.8287 - accuracy: 0.6627 - val_loss: 0.6550 - val_accuracy: 0.7206\n",
            "Epoch 17/250\n",
            "54/54 [==============================] - 38s 700ms/step - loss: 0.7418 - accuracy: 0.6959 - val_loss: 1.2360 - val_accuracy: 0.6294\n",
            "Epoch 18/250\n",
            "54/54 [==============================] - 38s 711ms/step - loss: 0.8176 - accuracy: 0.6815 - val_loss: 0.7477 - val_accuracy: 0.6735\n",
            "Epoch 19/250\n",
            "54/54 [==============================] - 39s 712ms/step - loss: 0.7678 - accuracy: 0.6788 - val_loss: 0.9560 - val_accuracy: 0.6353\n",
            "Epoch 20/250\n",
            "54/54 [==============================] - 39s 723ms/step - loss: 0.6981 - accuracy: 0.7086 - val_loss: 0.8879 - val_accuracy: 0.6353\n",
            "Epoch 21/250\n",
            "54/54 [==============================] - 39s 714ms/step - loss: 0.8378 - accuracy: 0.6594 - val_loss: 1.4456 - val_accuracy: 0.4206\n",
            "Epoch 22/250\n",
            "54/54 [==============================] - 39s 717ms/step - loss: 0.7626 - accuracy: 0.6745 - val_loss: 0.7277 - val_accuracy: 0.7000\n",
            "Epoch 23/250\n",
            "54/54 [==============================] - 39s 715ms/step - loss: 0.7381 - accuracy: 0.6870 - val_loss: 0.7224 - val_accuracy: 0.6971\n",
            "Epoch 24/250\n",
            "54/54 [==============================] - 37s 688ms/step - loss: 0.6691 - accuracy: 0.7185 - val_loss: 0.9614 - val_accuracy: 0.6206\n",
            "Epoch 25/250\n",
            "54/54 [==============================] - 38s 695ms/step - loss: 0.7329 - accuracy: 0.7087 - val_loss: 0.7105 - val_accuracy: 0.7471\n",
            "Epoch 26/250\n",
            "54/54 [==============================] - 37s 690ms/step - loss: 0.6671 - accuracy: 0.7196 - val_loss: 0.8570 - val_accuracy: 0.7294\n",
            "Epoch 27/250\n",
            "54/54 [==============================] - 38s 693ms/step - loss: 0.6162 - accuracy: 0.7430 - val_loss: 0.6881 - val_accuracy: 0.7294\n",
            "Epoch 28/250\n",
            "54/54 [==============================] - 37s 690ms/step - loss: 0.6248 - accuracy: 0.7364 - val_loss: 0.7050 - val_accuracy: 0.6824\n",
            "Epoch 29/250\n",
            "54/54 [==============================] - 37s 691ms/step - loss: 0.7763 - accuracy: 0.6789 - val_loss: 1.5707 - val_accuracy: 0.5588\n",
            "Epoch 30/250\n",
            "54/54 [==============================] - 37s 686ms/step - loss: 0.6394 - accuracy: 0.7273 - val_loss: 0.7411 - val_accuracy: 0.7118\n",
            "Epoch 31/250\n",
            "54/54 [==============================] - 37s 687ms/step - loss: 0.6835 - accuracy: 0.7203 - val_loss: 0.6495 - val_accuracy: 0.7588\n",
            "Epoch 32/250\n",
            "54/54 [==============================] - 37s 692ms/step - loss: 0.5958 - accuracy: 0.7540 - val_loss: 0.5692 - val_accuracy: 0.7824\n",
            "Epoch 33/250\n",
            "54/54 [==============================] - 38s 698ms/step - loss: 0.5842 - accuracy: 0.7560 - val_loss: 0.7105 - val_accuracy: 0.7588\n",
            "Epoch 34/250\n",
            "54/54 [==============================] - 38s 696ms/step - loss: 0.5858 - accuracy: 0.7548 - val_loss: 0.5338 - val_accuracy: 0.7529\n",
            "Epoch 35/250\n",
            "54/54 [==============================] - 38s 696ms/step - loss: 0.6021 - accuracy: 0.7565 - val_loss: 1.4836 - val_accuracy: 0.4676\n",
            "Epoch 36/250\n",
            "54/54 [==============================] - 37s 688ms/step - loss: 0.6678 - accuracy: 0.7401 - val_loss: 0.9932 - val_accuracy: 0.6265\n",
            "Epoch 37/250\n",
            "54/54 [==============================] - 37s 687ms/step - loss: 0.6109 - accuracy: 0.7474 - val_loss: 0.5993 - val_accuracy: 0.7794\n",
            "Epoch 38/250\n",
            "54/54 [==============================] - 37s 686ms/step - loss: 0.5746 - accuracy: 0.7555 - val_loss: 1.1149 - val_accuracy: 0.6324\n",
            "Epoch 39/250\n",
            "54/54 [==============================] - 37s 687ms/step - loss: 0.5766 - accuracy: 0.7710 - val_loss: 0.5932 - val_accuracy: 0.7882\n",
            "Epoch 40/250\n",
            "54/54 [==============================] - 37s 687ms/step - loss: 0.5754 - accuracy: 0.7560 - val_loss: 0.6859 - val_accuracy: 0.7382\n",
            "Epoch 41/250\n",
            "54/54 [==============================] - 37s 691ms/step - loss: 0.5536 - accuracy: 0.7756 - val_loss: 1.0460 - val_accuracy: 0.6265\n",
            "Epoch 42/250\n",
            "54/54 [==============================] - 38s 701ms/step - loss: 0.5473 - accuracy: 0.7783 - val_loss: 0.5764 - val_accuracy: 0.7647\n",
            "Epoch 43/250\n",
            "54/54 [==============================] - 39s 715ms/step - loss: 0.5549 - accuracy: 0.7840 - val_loss: 0.6720 - val_accuracy: 0.7500\n",
            "Epoch 44/250\n",
            "54/54 [==============================] - 37s 693ms/step - loss: 0.5593 - accuracy: 0.7665 - val_loss: 0.8568 - val_accuracy: 0.6824\n",
            "Epoch 45/250\n",
            "54/54 [==============================] - 38s 698ms/step - loss: 0.5546 - accuracy: 0.7657 - val_loss: 0.6232 - val_accuracy: 0.7529\n",
            "Epoch 46/250\n",
            "54/54 [==============================] - 38s 693ms/step - loss: 0.5360 - accuracy: 0.7745 - val_loss: 0.5956 - val_accuracy: 0.7500\n",
            "Epoch 47/250\n",
            "54/54 [==============================] - 37s 699ms/step - loss: 0.7541 - accuracy: 0.7128 - val_loss: 1.2983 - val_accuracy: 0.5941\n",
            "Epoch 48/250\n",
            "54/54 [==============================] - 36s 674ms/step - loss: 0.5449 - accuracy: 0.7838 - val_loss: 0.7637 - val_accuracy: 0.7176\n",
            "Epoch 49/250\n",
            "54/54 [==============================] - 36s 674ms/step - loss: 0.5444 - accuracy: 0.7841 - val_loss: 1.1045 - val_accuracy: 0.6412\n",
            "Epoch 50/250\n",
            "54/54 [==============================] - 36s 673ms/step - loss: 0.5455 - accuracy: 0.7765 - val_loss: 1.5548 - val_accuracy: 0.5706\n",
            "Epoch 51/250\n",
            "54/54 [==============================] - 36s 671ms/step - loss: 0.5517 - accuracy: 0.7823 - val_loss: 0.5800 - val_accuracy: 0.7676\n",
            "Epoch 52/250\n",
            "54/54 [==============================] - 36s 667ms/step - loss: 0.5331 - accuracy: 0.7745 - val_loss: 0.5801 - val_accuracy: 0.8118\n",
            "Epoch 53/250\n",
            "54/54 [==============================] - 36s 670ms/step - loss: 0.5068 - accuracy: 0.8006 - val_loss: 0.5953 - val_accuracy: 0.7706\n",
            "Epoch 54/250\n",
            "54/54 [==============================] - 36s 665ms/step - loss: 0.5844 - accuracy: 0.7563 - val_loss: 0.6517 - val_accuracy: 0.7971\n",
            "Epoch 55/250\n",
            "54/54 [==============================] - 36s 668ms/step - loss: 0.5468 - accuracy: 0.7795 - val_loss: 0.5465 - val_accuracy: 0.7912\n",
            "Epoch 56/250\n",
            "54/54 [==============================] - 36s 665ms/step - loss: 0.5369 - accuracy: 0.7763 - val_loss: 0.6840 - val_accuracy: 0.7412\n",
            "Epoch 57/250\n",
            "54/54 [==============================] - 36s 672ms/step - loss: 0.5176 - accuracy: 0.7818 - val_loss: 0.5434 - val_accuracy: 0.7618\n",
            "Epoch 58/250\n",
            "54/54 [==============================] - 36s 668ms/step - loss: 0.4981 - accuracy: 0.7894 - val_loss: 0.6511 - val_accuracy: 0.7441\n",
            "Epoch 59/250\n",
            "54/54 [==============================] - 36s 672ms/step - loss: 0.4821 - accuracy: 0.7937 - val_loss: 0.6604 - val_accuracy: 0.7235\n",
            "Epoch 60/250\n",
            "54/54 [==============================] - 36s 669ms/step - loss: 0.5096 - accuracy: 0.7856 - val_loss: 0.7979 - val_accuracy: 0.7324\n",
            "Epoch 61/250\n",
            "54/54 [==============================] - 36s 673ms/step - loss: 0.4849 - accuracy: 0.8038 - val_loss: 0.5319 - val_accuracy: 0.7735\n",
            "Epoch 62/250\n",
            "54/54 [==============================] - 37s 691ms/step - loss: 0.4665 - accuracy: 0.8145 - val_loss: 1.2324 - val_accuracy: 0.6529\n",
            "Epoch 63/250\n",
            "54/54 [==============================] - 38s 695ms/step - loss: 0.5360 - accuracy: 0.7802 - val_loss: 1.1680 - val_accuracy: 0.6147\n",
            "Epoch 64/250\n",
            "54/54 [==============================] - 37s 691ms/step - loss: 0.4727 - accuracy: 0.8150 - val_loss: 1.0800 - val_accuracy: 0.7088\n",
            "Epoch 65/250\n",
            "54/54 [==============================] - 38s 694ms/step - loss: 0.4946 - accuracy: 0.7892 - val_loss: 0.7679 - val_accuracy: 0.6471\n",
            "Epoch 66/250\n",
            "54/54 [==============================] - 37s 692ms/step - loss: 0.5555 - accuracy: 0.7772 - val_loss: 1.0999 - val_accuracy: 0.6118\n",
            "Epoch 67/250\n",
            "54/54 [==============================] - 39s 713ms/step - loss: 0.5023 - accuracy: 0.7920 - val_loss: 0.8950 - val_accuracy: 0.7294\n",
            "Epoch 68/250\n",
            "54/54 [==============================] - 39s 718ms/step - loss: 0.4699 - accuracy: 0.8059 - val_loss: 2.7513 - val_accuracy: 0.5000\n",
            "Epoch 69/250\n",
            "54/54 [==============================] - 39s 717ms/step - loss: 0.4535 - accuracy: 0.8169 - val_loss: 0.8284 - val_accuracy: 0.7441\n",
            "Epoch 70/250\n",
            "54/54 [==============================] - 39s 717ms/step - loss: 0.4518 - accuracy: 0.8166 - val_loss: 0.6921 - val_accuracy: 0.7735\n",
            "Epoch 71/250\n",
            "54/54 [==============================] - 39s 723ms/step - loss: 0.4554 - accuracy: 0.8171 - val_loss: 0.5356 - val_accuracy: 0.8147\n",
            "Epoch 72/250\n",
            "54/54 [==============================] - 39s 719ms/step - loss: 0.4169 - accuracy: 0.8298 - val_loss: 0.4725 - val_accuracy: 0.8324\n",
            "Epoch 73/250\n",
            "54/54 [==============================] - 38s 702ms/step - loss: 0.4396 - accuracy: 0.8229 - val_loss: 0.6184 - val_accuracy: 0.7971\n",
            "Epoch 74/250\n",
            "54/54 [==============================] - 38s 698ms/step - loss: 0.4342 - accuracy: 0.8184 - val_loss: 1.1440 - val_accuracy: 0.6441\n",
            "Epoch 75/250\n",
            "54/54 [==============================] - 38s 695ms/step - loss: 0.5816 - accuracy: 0.7834 - val_loss: 0.9708 - val_accuracy: 0.6971\n",
            "Epoch 76/250\n",
            "54/54 [==============================] - 38s 694ms/step - loss: 0.4542 - accuracy: 0.8086 - val_loss: 1.1588 - val_accuracy: 0.6824\n",
            "Epoch 77/250\n",
            "54/54 [==============================] - 37s 690ms/step - loss: 0.4957 - accuracy: 0.7893 - val_loss: 0.7478 - val_accuracy: 0.7382\n",
            "Epoch 78/250\n",
            "54/54 [==============================] - 37s 686ms/step - loss: 0.4299 - accuracy: 0.8185 - val_loss: 0.5099 - val_accuracy: 0.8059\n",
            "Epoch 79/250\n",
            "54/54 [==============================] - 37s 689ms/step - loss: 0.4480 - accuracy: 0.8189 - val_loss: 0.6168 - val_accuracy: 0.7824\n",
            "Epoch 80/250\n",
            "54/54 [==============================] - 37s 689ms/step - loss: 0.4560 - accuracy: 0.8113 - val_loss: 1.2567 - val_accuracy: 0.6118\n",
            "Epoch 81/250\n",
            "54/54 [==============================] - 38s 699ms/step - loss: 0.4352 - accuracy: 0.8296 - val_loss: 0.7682 - val_accuracy: 0.7147\n",
            "Epoch 82/250\n",
            "54/54 [==============================] - 37s 689ms/step - loss: 0.4615 - accuracy: 0.8008 - val_loss: 0.7513 - val_accuracy: 0.7059\n",
            "Epoch 83/250\n",
            "54/54 [==============================] - 38s 696ms/step - loss: 0.4562 - accuracy: 0.8130 - val_loss: 0.5444 - val_accuracy: 0.7882\n",
            "Epoch 84/250\n",
            "54/54 [==============================] - 37s 689ms/step - loss: 0.4743 - accuracy: 0.8096 - val_loss: 0.8269 - val_accuracy: 0.7500\n",
            "Epoch 85/250\n",
            "54/54 [==============================] - 37s 690ms/step - loss: 0.4083 - accuracy: 0.8331 - val_loss: 0.6194 - val_accuracy: 0.7941\n",
            "Epoch 86/250\n",
            "54/54 [==============================] - 37s 691ms/step - loss: 0.4392 - accuracy: 0.8233 - val_loss: 0.6443 - val_accuracy: 0.7912\n",
            "Epoch 87/250\n",
            "54/54 [==============================] - 37s 692ms/step - loss: 0.3813 - accuracy: 0.8451 - val_loss: 0.6819 - val_accuracy: 0.7735\n",
            "Epoch 88/250\n",
            "54/54 [==============================] - 37s 691ms/step - loss: 0.4151 - accuracy: 0.8379 - val_loss: 0.6952 - val_accuracy: 0.7735\n",
            "Epoch 89/250\n",
            "54/54 [==============================] - 38s 699ms/step - loss: 0.3969 - accuracy: 0.8397 - val_loss: 0.5641 - val_accuracy: 0.7941\n",
            "Epoch 90/250\n",
            "54/54 [==============================] - 37s 688ms/step - loss: 0.3894 - accuracy: 0.8367 - val_loss: 0.5942 - val_accuracy: 0.7941\n",
            "Epoch 91/250\n",
            "54/54 [==============================] - 37s 691ms/step - loss: 0.3906 - accuracy: 0.8459 - val_loss: 0.7003 - val_accuracy: 0.7265\n",
            "Epoch 92/250\n",
            "54/54 [==============================] - 39s 716ms/step - loss: 0.4038 - accuracy: 0.8379 - val_loss: 0.5379 - val_accuracy: 0.8118\n",
            "Epoch 93/250\n",
            "54/54 [==============================] - 39s 717ms/step - loss: 0.4229 - accuracy: 0.8263 - val_loss: 0.6955 - val_accuracy: 0.7676\n",
            "Epoch 94/250\n",
            "54/54 [==============================] - 39s 711ms/step - loss: 0.4118 - accuracy: 0.8278 - val_loss: 0.4757 - val_accuracy: 0.8294\n",
            "Epoch 95/250\n",
            "54/54 [==============================] - 39s 712ms/step - loss: 0.4215 - accuracy: 0.8324 - val_loss: 0.9205 - val_accuracy: 0.7471\n",
            "Epoch 96/250\n",
            "54/54 [==============================] - 39s 718ms/step - loss: 0.4202 - accuracy: 0.8422 - val_loss: 0.5515 - val_accuracy: 0.7529\n",
            "Epoch 97/250\n",
            "54/54 [==============================] - 39s 720ms/step - loss: 0.4183 - accuracy: 0.8381 - val_loss: 0.6547 - val_accuracy: 0.7559\n",
            "Epoch 98/250\n",
            "54/54 [==============================] - 37s 690ms/step - loss: 0.4099 - accuracy: 0.8428 - val_loss: 0.5164 - val_accuracy: 0.8176\n",
            "Epoch 99/250\n",
            "54/54 [==============================] - 37s 693ms/step - loss: 0.3776 - accuracy: 0.8466 - val_loss: 0.7891 - val_accuracy: 0.7441\n",
            "Epoch 100/250\n",
            "54/54 [==============================] - 37s 694ms/step - loss: 0.3638 - accuracy: 0.8546 - val_loss: 0.5889 - val_accuracy: 0.7618\n",
            "Epoch 101/250\n",
            "54/54 [==============================] - 38s 697ms/step - loss: 0.3709 - accuracy: 0.8475 - val_loss: 0.6940 - val_accuracy: 0.7824\n",
            "Epoch 102/250\n",
            "54/54 [==============================] - 37s 691ms/step - loss: 0.3778 - accuracy: 0.8433 - val_loss: 0.6614 - val_accuracy: 0.7441\n",
            "Epoch 103/250\n",
            "54/54 [==============================] - 37s 693ms/step - loss: 0.3983 - accuracy: 0.8321 - val_loss: 0.6279 - val_accuracy: 0.7794\n",
            "Epoch 104/250\n",
            "54/54 [==============================] - 37s 687ms/step - loss: 0.3777 - accuracy: 0.8528 - val_loss: 0.9423 - val_accuracy: 0.7176\n",
            "Epoch 105/250\n",
            "54/54 [==============================] - 38s 696ms/step - loss: 0.4016 - accuracy: 0.8381 - val_loss: 0.5251 - val_accuracy: 0.7882\n",
            "Epoch 106/250\n",
            "54/54 [==============================] - 37s 691ms/step - loss: 0.3586 - accuracy: 0.8522 - val_loss: 0.5381 - val_accuracy: 0.8059\n",
            "Epoch 107/250\n",
            "54/54 [==============================] - 37s 688ms/step - loss: 0.3505 - accuracy: 0.8626 - val_loss: 0.8586 - val_accuracy: 0.6765\n",
            "Epoch 108/250\n",
            "54/54 [==============================] - 38s 695ms/step - loss: 0.4986 - accuracy: 0.7939 - val_loss: 0.5698 - val_accuracy: 0.8088\n",
            "Epoch 109/250\n",
            "54/54 [==============================] - 37s 689ms/step - loss: 0.4263 - accuracy: 0.8327 - val_loss: 0.8455 - val_accuracy: 0.7588\n",
            "Epoch 110/250\n",
            "54/54 [==============================] - 37s 687ms/step - loss: 0.3827 - accuracy: 0.8370 - val_loss: 0.5317 - val_accuracy: 0.8206\n",
            "Epoch 111/250\n",
            "54/54 [==============================] - 37s 689ms/step - loss: 0.4176 - accuracy: 0.8347 - val_loss: 2.3409 - val_accuracy: 0.5824\n",
            "Epoch 112/250\n",
            "54/54 [==============================] - 37s 689ms/step - loss: 0.4530 - accuracy: 0.8239 - val_loss: 0.6328 - val_accuracy: 0.7676\n",
            "Epoch 113/250\n",
            "54/54 [==============================] - 38s 700ms/step - loss: 0.3861 - accuracy: 0.8483 - val_loss: 0.6758 - val_accuracy: 0.7971\n",
            "Epoch 114/250\n",
            "54/54 [==============================] - 37s 691ms/step - loss: 0.3548 - accuracy: 0.8557 - val_loss: 0.4698 - val_accuracy: 0.7941\n",
            "Epoch 115/250\n",
            "54/54 [==============================] - 37s 690ms/step - loss: 0.3533 - accuracy: 0.8568 - val_loss: 0.5588 - val_accuracy: 0.7824\n",
            "Epoch 116/250\n",
            "54/54 [==============================] - 38s 695ms/step - loss: 0.3578 - accuracy: 0.8535 - val_loss: 0.9022 - val_accuracy: 0.7029\n",
            "Epoch 117/250\n",
            "54/54 [==============================] - 38s 697ms/step - loss: 0.4197 - accuracy: 0.8291 - val_loss: 0.5732 - val_accuracy: 0.7824\n",
            "Epoch 118/250\n",
            "54/54 [==============================] - 37s 689ms/step - loss: 0.3657 - accuracy: 0.8559 - val_loss: 0.5048 - val_accuracy: 0.8147\n",
            "Epoch 119/250\n",
            "54/54 [==============================] - 38s 695ms/step - loss: 0.3350 - accuracy: 0.8601 - val_loss: 0.5611 - val_accuracy: 0.8265\n",
            "Epoch 120/250\n",
            "54/54 [==============================] - 37s 693ms/step - loss: 0.3389 - accuracy: 0.8633 - val_loss: 0.7020 - val_accuracy: 0.7971\n",
            "Epoch 121/250\n",
            "54/54 [==============================] - 38s 699ms/step - loss: 0.3493 - accuracy: 0.8560 - val_loss: 0.5153 - val_accuracy: 0.8000\n",
            "Epoch 122/250\n",
            "54/54 [==============================] - 37s 693ms/step - loss: 0.3132 - accuracy: 0.8719 - val_loss: 0.4790 - val_accuracy: 0.8118\n",
            "Epoch 123/250\n",
            "54/54 [==============================] - 37s 692ms/step - loss: 0.3247 - accuracy: 0.8733 - val_loss: 0.6846 - val_accuracy: 0.8000\n",
            "Epoch 124/250\n",
            "54/54 [==============================] - 38s 693ms/step - loss: 0.3661 - accuracy: 0.8548 - val_loss: 0.4839 - val_accuracy: 0.8059\n",
            "Epoch 125/250\n",
            "54/54 [==============================] - 38s 701ms/step - loss: 0.2984 - accuracy: 0.8729 - val_loss: 0.4916 - val_accuracy: 0.8235\n",
            "Epoch 126/250\n",
            "54/54 [==============================] - 37s 691ms/step - loss: 0.3065 - accuracy: 0.8762 - val_loss: 0.4470 - val_accuracy: 0.8353\n",
            "Epoch 127/250\n",
            "54/54 [==============================] - 38s 694ms/step - loss: 0.2882 - accuracy: 0.8844 - val_loss: 0.4728 - val_accuracy: 0.8206\n",
            "Epoch 128/250\n",
            "54/54 [==============================] - 36s 668ms/step - loss: 0.3244 - accuracy: 0.8722 - val_loss: 0.7142 - val_accuracy: 0.7882\n",
            "Epoch 129/250\n",
            "54/54 [==============================] - 37s 676ms/step - loss: 0.3608 - accuracy: 0.8566 - val_loss: 0.4714 - val_accuracy: 0.8029\n",
            "Epoch 130/250\n",
            "54/54 [==============================] - 36s 670ms/step - loss: 0.3077 - accuracy: 0.8711 - val_loss: 0.6518 - val_accuracy: 0.7647\n",
            "Epoch 131/250\n",
            "54/54 [==============================] - 36s 670ms/step - loss: 0.3166 - accuracy: 0.8813 - val_loss: 0.5678 - val_accuracy: 0.7912\n",
            "Epoch 132/250\n",
            "54/54 [==============================] - 36s 670ms/step - loss: 0.3036 - accuracy: 0.8714 - val_loss: 0.6696 - val_accuracy: 0.7853\n",
            "Epoch 133/250\n",
            "54/54 [==============================] - 36s 674ms/step - loss: 0.3361 - accuracy: 0.8683 - val_loss: 0.7253 - val_accuracy: 0.7882\n",
            "Epoch 134/250\n",
            "54/54 [==============================] - 36s 668ms/step - loss: 0.2862 - accuracy: 0.8794 - val_loss: 0.6222 - val_accuracy: 0.7971\n",
            "Epoch 135/250\n",
            "54/54 [==============================] - 36s 668ms/step - loss: 0.2795 - accuracy: 0.8927 - val_loss: 0.7292 - val_accuracy: 0.7971\n",
            "Epoch 136/250\n",
            "54/54 [==============================] - 36s 667ms/step - loss: 0.2644 - accuracy: 0.8949 - val_loss: 0.5123 - val_accuracy: 0.8235\n",
            "Epoch 137/250\n",
            "54/54 [==============================] - 36s 668ms/step - loss: 0.2938 - accuracy: 0.8701 - val_loss: 0.4830 - val_accuracy: 0.8059\n",
            "Epoch 138/250\n",
            "54/54 [==============================] - 36s 669ms/step - loss: 0.2941 - accuracy: 0.8827 - val_loss: 0.4943 - val_accuracy: 0.8294\n",
            "Epoch 139/250\n",
            "54/54 [==============================] - 37s 680ms/step - loss: 0.2840 - accuracy: 0.8896 - val_loss: 0.4877 - val_accuracy: 0.8382\n",
            "Epoch 140/250\n",
            "54/54 [==============================] - 36s 670ms/step - loss: 0.2801 - accuracy: 0.8886 - val_loss: 0.7104 - val_accuracy: 0.8059\n",
            "Epoch 141/250\n",
            "54/54 [==============================] - 36s 672ms/step - loss: 0.2830 - accuracy: 0.8834 - val_loss: 0.5275 - val_accuracy: 0.8353\n",
            "Epoch 142/250\n",
            "54/54 [==============================] - 36s 671ms/step - loss: 0.3157 - accuracy: 0.8734 - val_loss: 0.7059 - val_accuracy: 0.7912\n",
            "Epoch 143/250\n",
            "54/54 [==============================] - 36s 670ms/step - loss: 0.3039 - accuracy: 0.8798 - val_loss: 0.4865 - val_accuracy: 0.8088\n",
            "Epoch 144/250\n",
            "54/54 [==============================] - 36s 668ms/step - loss: 0.3027 - accuracy: 0.8794 - val_loss: 1.9084 - val_accuracy: 0.6382\n",
            "Epoch 145/250\n",
            "54/54 [==============================] - 36s 675ms/step - loss: 0.3780 - accuracy: 0.8470 - val_loss: 0.6823 - val_accuracy: 0.7676\n",
            "Epoch 146/250\n",
            "54/54 [==============================] - 36s 674ms/step - loss: 0.3418 - accuracy: 0.8582 - val_loss: 0.6801 - val_accuracy: 0.7794\n",
            "Epoch 147/250\n",
            "54/54 [==============================] - 36s 673ms/step - loss: 0.2981 - accuracy: 0.8797 - val_loss: 0.4661 - val_accuracy: 0.8353\n",
            "Epoch 148/250\n",
            "54/54 [==============================] - 36s 674ms/step - loss: 0.2842 - accuracy: 0.8934 - val_loss: 0.5435 - val_accuracy: 0.8000\n",
            "Epoch 149/250\n",
            "54/54 [==============================] - 36s 668ms/step - loss: 0.2803 - accuracy: 0.8917 - val_loss: 0.6222 - val_accuracy: 0.8176\n",
            "Epoch 150/250\n",
            "54/54 [==============================] - 36s 673ms/step - loss: 0.4093 - accuracy: 0.8577 - val_loss: 0.5442 - val_accuracy: 0.7941\n",
            "Epoch 151/250\n",
            "54/54 [==============================] - 36s 672ms/step - loss: 0.2606 - accuracy: 0.8906 - val_loss: 0.5592 - val_accuracy: 0.8324\n",
            "Epoch 152/250\n",
            "54/54 [==============================] - 36s 671ms/step - loss: 0.2675 - accuracy: 0.8952 - val_loss: 0.5613 - val_accuracy: 0.8088\n",
            "Epoch 153/250\n",
            "54/54 [==============================] - 36s 673ms/step - loss: 0.3187 - accuracy: 0.8757 - val_loss: 0.9021 - val_accuracy: 0.7412\n",
            "Epoch 154/250\n",
            "54/54 [==============================] - 37s 678ms/step - loss: 0.2833 - accuracy: 0.8874 - val_loss: 0.6373 - val_accuracy: 0.7824\n",
            "Epoch 155/250\n",
            "54/54 [==============================] - 37s 676ms/step - loss: 0.2635 - accuracy: 0.8919 - val_loss: 0.4609 - val_accuracy: 0.8500\n",
            "Epoch 156/250\n",
            "54/54 [==============================] - 36s 672ms/step - loss: 0.2523 - accuracy: 0.9022 - val_loss: 0.4039 - val_accuracy: 0.8441\n",
            "Epoch 157/250\n",
            "54/54 [==============================] - 36s 674ms/step - loss: 0.2598 - accuracy: 0.8951 - val_loss: 0.9165 - val_accuracy: 0.7206\n",
            "Epoch 158/250\n",
            "54/54 [==============================] - 36s 671ms/step - loss: 0.2573 - accuracy: 0.9020 - val_loss: 0.5492 - val_accuracy: 0.8382\n",
            "Epoch 159/250\n",
            "54/54 [==============================] - 36s 672ms/step - loss: 0.2376 - accuracy: 0.9041 - val_loss: 0.5414 - val_accuracy: 0.7941\n",
            "Epoch 160/250\n",
            "54/54 [==============================] - 36s 668ms/step - loss: 0.3905 - accuracy: 0.8488 - val_loss: 0.8447 - val_accuracy: 0.7588\n",
            "Epoch 161/250\n",
            "54/54 [==============================] - 36s 667ms/step - loss: 0.2882 - accuracy: 0.8775 - val_loss: 0.7206 - val_accuracy: 0.7794\n",
            "Epoch 162/250\n",
            "54/54 [==============================] - 37s 677ms/step - loss: 0.2445 - accuracy: 0.9083 - val_loss: 0.4523 - val_accuracy: 0.8382\n",
            "Epoch 163/250\n",
            "54/54 [==============================] - 36s 667ms/step - loss: 0.2458 - accuracy: 0.9039 - val_loss: 0.9170 - val_accuracy: 0.7529\n",
            "Epoch 164/250\n",
            "54/54 [==============================] - 36s 664ms/step - loss: 0.2532 - accuracy: 0.9028 - val_loss: 0.5410 - val_accuracy: 0.8382\n",
            "Epoch 165/250\n",
            "54/54 [==============================] - 36s 661ms/step - loss: 0.2866 - accuracy: 0.8951 - val_loss: 0.4100 - val_accuracy: 0.8529\n",
            "Epoch 166/250\n",
            "54/54 [==============================] - 36s 659ms/step - loss: 0.2607 - accuracy: 0.8846 - val_loss: 0.8557 - val_accuracy: 0.7941\n",
            "Epoch 167/250\n",
            "54/54 [==============================] - 36s 667ms/step - loss: 0.2411 - accuracy: 0.9120 - val_loss: 0.5450 - val_accuracy: 0.8235\n",
            "Epoch 168/250\n",
            "54/54 [==============================] - 36s 664ms/step - loss: 0.2828 - accuracy: 0.8925 - val_loss: 0.7955 - val_accuracy: 0.7676\n",
            "Epoch 169/250\n",
            "54/54 [==============================] - 36s 658ms/step - loss: 0.3108 - accuracy: 0.8759 - val_loss: 0.7598 - val_accuracy: 0.7294\n",
            "Epoch 170/250\n",
            "54/54 [==============================] - 36s 664ms/step - loss: 0.2913 - accuracy: 0.8893 - val_loss: 0.5219 - val_accuracy: 0.8235\n",
            "Epoch 171/250\n",
            "54/54 [==============================] - 35s 655ms/step - loss: 0.2538 - accuracy: 0.8994 - val_loss: 0.4474 - val_accuracy: 0.8412\n",
            "Epoch 172/250\n",
            "54/54 [==============================] - 36s 661ms/step - loss: 0.2480 - accuracy: 0.9046 - val_loss: 1.1259 - val_accuracy: 0.7529\n",
            "Epoch 173/250\n",
            "54/54 [==============================] - 36s 663ms/step - loss: 0.2511 - accuracy: 0.9006 - val_loss: 1.8876 - val_accuracy: 0.6088\n",
            "Epoch 174/250\n",
            "54/54 [==============================] - 36s 663ms/step - loss: 0.3079 - accuracy: 0.8669 - val_loss: 0.4942 - val_accuracy: 0.8441\n",
            "Epoch 175/250\n",
            "54/54 [==============================] - 36s 663ms/step - loss: 0.2461 - accuracy: 0.9039 - val_loss: 0.5787 - val_accuracy: 0.8382\n",
            "Epoch 176/250\n",
            "54/54 [==============================] - 36s 662ms/step - loss: 0.2482 - accuracy: 0.9087 - val_loss: 0.6739 - val_accuracy: 0.8206\n",
            "Epoch 177/250\n",
            "54/54 [==============================] - 36s 659ms/step - loss: 0.2516 - accuracy: 0.9060 - val_loss: 0.4390 - val_accuracy: 0.8588\n",
            "Epoch 178/250\n",
            "54/54 [==============================] - 36s 659ms/step - loss: 0.2413 - accuracy: 0.9111 - val_loss: 0.4946 - val_accuracy: 0.8441\n",
            "Epoch 179/250\n",
            "54/54 [==============================] - 36s 664ms/step - loss: 0.2398 - accuracy: 0.9051 - val_loss: 0.4846 - val_accuracy: 0.8441\n",
            "Epoch 180/250\n",
            "54/54 [==============================] - 36s 659ms/step - loss: 0.2240 - accuracy: 0.9116 - val_loss: 0.4773 - val_accuracy: 0.8059\n",
            "Epoch 181/250\n",
            "54/54 [==============================] - 36s 658ms/step - loss: 0.2517 - accuracy: 0.9029 - val_loss: 0.4980 - val_accuracy: 0.8147\n",
            "Epoch 182/250\n",
            "54/54 [==============================] - 36s 656ms/step - loss: 0.2681 - accuracy: 0.8960 - val_loss: 2.0192 - val_accuracy: 0.6265\n",
            "Epoch 183/250\n",
            "54/54 [==============================] - 35s 654ms/step - loss: 0.2197 - accuracy: 0.9190 - val_loss: 0.5803 - val_accuracy: 0.8147\n",
            "Epoch 184/250\n",
            "54/54 [==============================] - 35s 656ms/step - loss: 0.2240 - accuracy: 0.9135 - val_loss: 0.5769 - val_accuracy: 0.8118\n",
            "Epoch 185/250\n",
            "54/54 [==============================] - 36s 659ms/step - loss: 0.2539 - accuracy: 0.9024 - val_loss: 0.6238 - val_accuracy: 0.8382\n",
            "Epoch 186/250\n",
            "54/54 [==============================] - 35s 653ms/step - loss: 0.1931 - accuracy: 0.9277 - val_loss: 0.6068 - val_accuracy: 0.7882\n",
            "Epoch 187/250\n",
            "54/54 [==============================] - 36s 659ms/step - loss: 0.2253 - accuracy: 0.9148 - val_loss: 0.9155 - val_accuracy: 0.7206\n",
            "Epoch 188/250\n",
            "54/54 [==============================] - 36s 657ms/step - loss: 0.2747 - accuracy: 0.8982 - val_loss: 0.4214 - val_accuracy: 0.8353\n",
            "Epoch 189/250\n",
            "54/54 [==============================] - 36s 662ms/step - loss: 0.2357 - accuracy: 0.9093 - val_loss: 0.6109 - val_accuracy: 0.8088\n",
            "Epoch 190/250\n",
            "54/54 [==============================] - 36s 659ms/step - loss: 0.2568 - accuracy: 0.8940 - val_loss: 0.5375 - val_accuracy: 0.8382\n",
            "Epoch 191/250\n",
            "54/54 [==============================] - 36s 657ms/step - loss: 0.2103 - accuracy: 0.9181 - val_loss: 0.5768 - val_accuracy: 0.8265\n",
            "Epoch 192/250\n",
            "54/54 [==============================] - 36s 661ms/step - loss: 0.1918 - accuracy: 0.9318 - val_loss: 0.5256 - val_accuracy: 0.8382\n",
            "Epoch 193/250\n",
            "54/54 [==============================] - 36s 658ms/step - loss: 0.1973 - accuracy: 0.9229 - val_loss: 0.5484 - val_accuracy: 0.8471\n",
            "Epoch 194/250\n",
            "54/54 [==============================] - 36s 659ms/step - loss: 0.2156 - accuracy: 0.9169 - val_loss: 0.7056 - val_accuracy: 0.8000\n",
            "Epoch 195/250\n",
            "54/54 [==============================] - 36s 663ms/step - loss: 0.2341 - accuracy: 0.9130 - val_loss: 0.4571 - val_accuracy: 0.8529\n",
            "Epoch 196/250\n",
            "54/54 [==============================] - 35s 655ms/step - loss: 0.2121 - accuracy: 0.9205 - val_loss: 0.3711 - val_accuracy: 0.8500\n",
            "Epoch 197/250\n",
            "54/54 [==============================] - 36s 657ms/step - loss: 0.2056 - accuracy: 0.9306 - val_loss: 0.4570 - val_accuracy: 0.8500\n",
            "Epoch 198/250\n",
            "54/54 [==============================] - 36s 656ms/step - loss: 0.2194 - accuracy: 0.9146 - val_loss: 0.5736 - val_accuracy: 0.8353\n",
            "Epoch 199/250\n",
            "54/54 [==============================] - 36s 661ms/step - loss: 0.1966 - accuracy: 0.9250 - val_loss: 0.5603 - val_accuracy: 0.8265\n",
            "Epoch 200/250\n",
            "54/54 [==============================] - 36s 658ms/step - loss: 0.2292 - accuracy: 0.9176 - val_loss: 0.5035 - val_accuracy: 0.8324\n",
            "Epoch 201/250\n",
            "54/54 [==============================] - 36s 660ms/step - loss: 0.1813 - accuracy: 0.9344 - val_loss: 0.6773 - val_accuracy: 0.8176\n",
            "Epoch 202/250\n",
            "54/54 [==============================] - 36s 660ms/step - loss: 0.2207 - accuracy: 0.9137 - val_loss: 0.8045 - val_accuracy: 0.7735\n",
            "Epoch 203/250\n",
            "54/54 [==============================] - 35s 655ms/step - loss: 0.2943 - accuracy: 0.8900 - val_loss: 0.5261 - val_accuracy: 0.8412\n",
            "Epoch 204/250\n",
            "54/54 [==============================] - 36s 663ms/step - loss: 0.2296 - accuracy: 0.9125 - val_loss: 0.8245 - val_accuracy: 0.7794\n",
            "Epoch 205/250\n",
            "54/54 [==============================] - 36s 665ms/step - loss: 0.2366 - accuracy: 0.9102 - val_loss: 0.6908 - val_accuracy: 0.8235\n",
            "Epoch 206/250\n",
            "54/54 [==============================] - 35s 655ms/step - loss: 0.2085 - accuracy: 0.9226 - val_loss: 0.7219 - val_accuracy: 0.7529\n",
            "Epoch 207/250\n",
            "54/54 [==============================] - 35s 653ms/step - loss: 0.2409 - accuracy: 0.9064 - val_loss: 0.5954 - val_accuracy: 0.8147\n",
            "Epoch 208/250\n",
            "54/54 [==============================] - 36s 661ms/step - loss: 0.2019 - accuracy: 0.9272 - val_loss: 1.3428 - val_accuracy: 0.6853\n",
            "Epoch 209/250\n",
            "54/54 [==============================] - 36s 663ms/step - loss: 0.2147 - accuracy: 0.9212 - val_loss: 1.0366 - val_accuracy: 0.7324\n",
            "Epoch 210/250\n",
            "54/54 [==============================] - 37s 692ms/step - loss: 0.2069 - accuracy: 0.9190 - val_loss: 0.5938 - val_accuracy: 0.8294\n",
            "Epoch 211/250\n",
            "54/54 [==============================] - 38s 700ms/step - loss: 0.2152 - accuracy: 0.9116 - val_loss: 1.8790 - val_accuracy: 0.4765\n",
            "Epoch 212/250\n",
            "54/54 [==============================] - 38s 698ms/step - loss: 0.3891 - accuracy: 0.8622 - val_loss: 0.5832 - val_accuracy: 0.8088\n",
            "Epoch 213/250\n",
            "54/54 [==============================] - 38s 695ms/step - loss: 0.2831 - accuracy: 0.9018 - val_loss: 1.1442 - val_accuracy: 0.7118\n",
            "Epoch 214/250\n",
            "54/54 [==============================] - 38s 699ms/step - loss: 0.2031 - accuracy: 0.9244 - val_loss: 0.5638 - val_accuracy: 0.8206\n",
            "Epoch 215/250\n",
            "54/54 [==============================] - 38s 697ms/step - loss: 0.2135 - accuracy: 0.9192 - val_loss: 0.4996 - val_accuracy: 0.8471\n",
            "Epoch 216/250\n",
            "54/54 [==============================] - 37s 682ms/step - loss: 0.1947 - accuracy: 0.9245 - val_loss: 0.5148 - val_accuracy: 0.8353\n",
            "Epoch 217/250\n",
            "54/54 [==============================] - 36s 667ms/step - loss: 0.2157 - accuracy: 0.9290 - val_loss: 0.4275 - val_accuracy: 0.8588\n",
            "Epoch 218/250\n",
            "54/54 [==============================] - 36s 672ms/step - loss: 0.1779 - accuracy: 0.9274 - val_loss: 0.5338 - val_accuracy: 0.8324\n",
            "Epoch 219/250\n",
            "54/54 [==============================] - 36s 667ms/step - loss: 0.1847 - accuracy: 0.9246 - val_loss: 0.5935 - val_accuracy: 0.8412\n",
            "Epoch 220/250\n",
            "54/54 [==============================] - 36s 667ms/step - loss: 0.1950 - accuracy: 0.9240 - val_loss: 0.5132 - val_accuracy: 0.8412\n",
            "Epoch 221/250\n",
            "54/54 [==============================] - 36s 666ms/step - loss: 0.1868 - accuracy: 0.9287 - val_loss: 0.6308 - val_accuracy: 0.8235\n",
            "Epoch 222/250\n",
            "54/54 [==============================] - 37s 675ms/step - loss: 0.2190 - accuracy: 0.9159 - val_loss: 0.6100 - val_accuracy: 0.8206\n",
            "Epoch 223/250\n",
            "54/54 [==============================] - 36s 673ms/step - loss: 0.1838 - accuracy: 0.9317 - val_loss: 0.6841 - val_accuracy: 0.7912\n",
            "Epoch 224/250\n",
            "54/54 [==============================] - 36s 667ms/step - loss: 0.1715 - accuracy: 0.9292 - val_loss: 0.4923 - val_accuracy: 0.8588\n",
            "Epoch 225/250\n",
            "54/54 [==============================] - 36s 665ms/step - loss: 0.1698 - accuracy: 0.9317 - val_loss: 0.5690 - val_accuracy: 0.8412\n",
            "Epoch 226/250\n",
            "54/54 [==============================] - 36s 669ms/step - loss: 0.1858 - accuracy: 0.9295 - val_loss: 0.5998 - val_accuracy: 0.8412\n",
            "Epoch 227/250\n",
            "54/54 [==============================] - 36s 666ms/step - loss: 0.1961 - accuracy: 0.9242 - val_loss: 0.4485 - val_accuracy: 0.8529\n",
            "Epoch 228/250\n",
            "54/54 [==============================] - 37s 681ms/step - loss: 0.1375 - accuracy: 0.9432 - val_loss: 0.4828 - val_accuracy: 0.8618\n",
            "Epoch 229/250\n",
            "54/54 [==============================] - 36s 672ms/step - loss: 0.1669 - accuracy: 0.9385 - val_loss: 0.6209 - val_accuracy: 0.8265\n",
            "Epoch 230/250\n",
            "54/54 [==============================] - 36s 670ms/step - loss: 0.1625 - accuracy: 0.9402 - val_loss: 0.4943 - val_accuracy: 0.8441\n",
            "Epoch 231/250\n",
            "54/54 [==============================] - 37s 684ms/step - loss: 0.1716 - accuracy: 0.9330 - val_loss: 0.4599 - val_accuracy: 0.8588\n",
            "Epoch 232/250\n",
            "54/54 [==============================] - 38s 694ms/step - loss: 0.1692 - accuracy: 0.9351 - val_loss: 0.4488 - val_accuracy: 0.8676\n",
            "Epoch 233/250\n",
            "54/54 [==============================] - 37s 685ms/step - loss: 0.2809 - accuracy: 0.8941 - val_loss: 0.7121 - val_accuracy: 0.7912\n",
            "Epoch 234/250\n",
            "54/54 [==============================] - 37s 679ms/step - loss: 0.1718 - accuracy: 0.9319 - val_loss: 0.6179 - val_accuracy: 0.8294\n",
            "Epoch 235/250\n",
            "54/54 [==============================] - 36s 672ms/step - loss: 0.1889 - accuracy: 0.9283 - val_loss: 0.5394 - val_accuracy: 0.8294\n",
            "Epoch 236/250\n",
            "54/54 [==============================] - 38s 696ms/step - loss: 0.1828 - accuracy: 0.9250 - val_loss: 0.6038 - val_accuracy: 0.8294\n",
            "Epoch 237/250\n",
            "54/54 [==============================] - 38s 697ms/step - loss: 0.1681 - accuracy: 0.9392 - val_loss: 0.8231 - val_accuracy: 0.8235\n",
            "Epoch 238/250\n",
            "54/54 [==============================] - 38s 698ms/step - loss: 0.1836 - accuracy: 0.9325 - val_loss: 0.8466 - val_accuracy: 0.7676\n",
            "Epoch 239/250\n",
            "54/54 [==============================] - 38s 696ms/step - loss: 0.2160 - accuracy: 0.9187 - val_loss: 0.8934 - val_accuracy: 0.7853\n",
            "Epoch 240/250\n",
            "54/54 [==============================] - 38s 696ms/step - loss: 0.2191 - accuracy: 0.9142 - val_loss: 0.5348 - val_accuracy: 0.8265\n",
            "Epoch 241/250\n",
            "54/54 [==============================] - 38s 694ms/step - loss: 0.1893 - accuracy: 0.9265 - val_loss: 0.4761 - val_accuracy: 0.8559\n",
            "Epoch 242/250\n",
            "54/54 [==============================] - 36s 671ms/step - loss: 0.2040 - accuracy: 0.9231 - val_loss: 0.5580 - val_accuracy: 0.8382\n",
            "Epoch 243/250\n",
            "54/54 [==============================] - 36s 670ms/step - loss: 0.2014 - accuracy: 0.9292 - val_loss: 0.5359 - val_accuracy: 0.8412\n",
            "Epoch 244/250\n",
            "54/54 [==============================] - 36s 669ms/step - loss: 0.1560 - accuracy: 0.9391 - val_loss: 0.4728 - val_accuracy: 0.8441\n",
            "Epoch 245/250\n",
            "54/54 [==============================] - 37s 675ms/step - loss: 0.1944 - accuracy: 0.9298 - val_loss: 0.6597 - val_accuracy: 0.8235\n",
            "Epoch 246/250\n",
            "54/54 [==============================] - 36s 666ms/step - loss: 0.1712 - accuracy: 0.9335 - val_loss: 0.6448 - val_accuracy: 0.8176\n",
            "Epoch 247/250\n",
            "54/54 [==============================] - 36s 664ms/step - loss: 0.1737 - accuracy: 0.9272 - val_loss: 0.7172 - val_accuracy: 0.8206\n",
            "Epoch 248/250\n",
            "54/54 [==============================] - 36s 666ms/step - loss: 0.1612 - accuracy: 0.9390 - val_loss: 0.6117 - val_accuracy: 0.8412\n",
            "Epoch 249/250\n",
            "54/54 [==============================] - 36s 669ms/step - loss: 0.1586 - accuracy: 0.9374 - val_loss: 0.5675 - val_accuracy: 0.8471\n",
            "Epoch 250/250\n",
            "54/54 [==============================] - 36s 673ms/step - loss: 0.1555 - accuracy: 0.9398 - val_loss: 0.5302 - val_accuracy: 0.8500\n"
          ],
          "name": "stdout"
        }
      ]
    },
    {
      "cell_type": "code",
      "metadata": {
        "colab": {
          "base_uri": "https://localhost:8080/"
        },
        "id": "6LmzypeBxeEL",
        "outputId": "39ebcb9e-5387-4ffd-9172-fe865148e5f0"
      },
      "source": [
        "model.save('/mydrive/dataset/BatchNorm250.model')"
      ],
      "execution_count": null,
      "outputs": [
        {
          "output_type": "stream",
          "text": [
            "INFO:tensorflow:Assets written to: /mydrive/dataset/BatchNorm250.model/assets\n"
          ],
          "name": "stdout"
        }
      ]
    },
    {
      "cell_type": "code",
      "metadata": {
        "colab": {
          "base_uri": "https://localhost:8080/",
          "height": 279
        },
        "id": "NO3vbM5SvcKy",
        "outputId": "943b95be-e4a7-45a8-c568-d132e4add606"
      },
      "source": [
        "abc='Accuracy vs Epoch Graph_250'\n",
        "plt.plot(history.history['accuracy'])\n",
        "plt.plot(history.history['val_accuracy'])\n",
        "#plt.title('Epoch vs Accuracy Graph')\n",
        "plt.ylabel('accuracy')\n",
        "plt.xlabel('epoch')\n",
        "plt.legend(['train', 'validation'],loc='upper left')\n",
        "plt.savefig(f'/mydrive/dataset/Saved Images Final/bOO/{abc}.png',bbox_inches=\"tight\",dpi=520)\n",
        "#make sure plt,=.savefig is before\n",
        "plt.show()"
      ],
      "execution_count": null,
      "outputs": [
        {
          "output_type": "display_data",
          "data": {
            "image/png": "[encoded data removed]",
            "text/plain": [
              "<Figure size 432x288 with 1 Axes>"
            ]
          },
          "metadata": {
            "tags": [],
            "needs_background": "light"
          }
        }
      ]
    },
    {
      "cell_type": "code",
      "metadata": {
        "colab": {
          "base_uri": "https://localhost:8080/",
          "height": 279
        },
        "id": "8oyGb1YuvcO2",
        "outputId": "c0b7dce5-fabc-402c-bf2c-ffae5ed3efd8"
      },
      "source": [
        "abc='Loss vs Epoch Graph_250'\n",
        "plt.plot(history.history['loss'])\n",
        "plt.plot(history.history['val_loss'])\n",
        "#plt.title('Epoch vs Accuracy Graph')\n",
        "plt.ylabel('loss')\n",
        "plt.xlabel('epoch')\n",
        "plt.legend(['train', 'validation'],loc='upper right')\n",
        "plt.savefig(f'/mydrive/dataset/Saved Images Final/bOO/{abc}.png',bbox_inches=\"tight\",dpi=520)\n",
        "#make sure plt,=.savefig is before\n",
        "plt.show()"
      ],
      "execution_count": null,
      "outputs": [
        {
          "output_type": "display_data",
          "data": {
            "image/png": "[encoded data removed]",
            "text/plain": [
              "<Figure size 432x288 with 1 Axes>"
            ]
          },
          "metadata": {
            "tags": [],
            "needs_background": "light"
          }
        }
      ]
    },
    {
      "cell_type": "code",
      "metadata": {
        "colab": {
          "base_uri": "https://localhost:8080/"
        },
        "id": "klviTITgvcQX",
        "outputId": "627e21ee-5d56-4fd4-ff9b-44a6ebd52326"
      },
      "source": [
        "test_datagen = ImageDataGenerator(rescale=1./255)\n",
        "test_generator = test_datagen.flow_from_directory(\n",
        "        r'/mydrive/dataset/Final Dataset/testing',\n",
        "        target_size=(200, 200),\n",
        "        color_mode='grayscale',\n",
        "        batch_size=64,\n",
        "        class_mode='categorical',\n",
        "        shuffle=False,\n",
        "        seed=42)\n",
        "\n",
        "test_imgs, test_labels = next(test_generator)"
      ],
      "execution_count": null,
      "outputs": [
        {
          "output_type": "stream",
          "text": [
            "Found 320 images belonging to 5 classes.\n"
          ],
          "name": "stdout"
        }
      ]
    },
    {
      "cell_type": "code",
      "metadata": {
        "colab": {
          "base_uri": "https://localhost:8080/"
        },
        "id": "f3OEMM0-xIYp",
        "outputId": "c939888f-8d58-44e8-ba97-2f78eaa90f55"
      },
      "source": [
        "model = keras.models.load_model('/mydrive/dataset/BatchNorm250.model')\n",
        "predictions = model.predict(x=test_generator, verbose=0)\n",
        "np.round(predictions)"
      ],
      "execution_count": null,
      "outputs": [
        {
          "output_type": "execute_result",
          "data": {
            "text/plain": [
              "array([[1., 0., 0., 0., 0.],\n",
              "       [1., 0., 0., 0., 0.],\n",
              "       [1., 0., 0., 0., 0.],\n",
              "       ...,\n",
              "       [0., 0., 0., 0., 1.],\n",
              "       [0., 0., 0., 0., 1.],\n",
              "       [0., 0., 0., 0., 1.]], dtype=float32)"
            ]
          },
          "metadata": {
            "tags": []
          },
          "execution_count": 7
        }
      ]
    },
    {
      "cell_type": "code",
      "metadata": {
        "id": "Wg90YDwIvcUb"
      },
      "source": [
        "import sklearn    \n",
        "from sklearn.metrics import confusion_matrix\n",
        "\n",
        "model = keras.models.load_model('/mydrive/dataset/BatchNorm250.model')\n",
        "predictions = model.predict(x=test_generator, verbose=0)\n",
        "np.round(predictions)\n",
        "\n",
        "y_true=test_generator.classes\n",
        "y_pred=np.argmax(predictions, axis=-1)\n",
        "\n",
        "cm = confusion_matrix(y_true, y_pred)"
      ],
      "execution_count": null,
      "outputs": []
    },
    {
      "cell_type": "code",
      "metadata": {
        "colab": {
          "base_uri": "https://localhost:8080/",
          "height": 423
        },
        "id": "qjwwTvQ7vcWI",
        "outputId": "b58b8821-808c-4613-c030-331dcfbb97b0"
      },
      "source": [
        "import itertools\n",
        "\n",
        "def plot_confusion_matrix(cm, classes,\n",
        "                          normalize=False,\n",
        "                          cmap=plt.cm.Blues):\n",
        "    plt.imshow(cm, interpolation='nearest', cmap=cmap)\n",
        "    #plt.title(title)\n",
        "    plt.colorbar()\n",
        "    tick_marks = np.arange(len(classes))\n",
        "    plt.xticks(tick_marks, classes, rotation=45)\n",
        "    plt.yticks(tick_marks, classes)\n",
        "\n",
        "    if normalize:\n",
        "        cm = cm.astype('float') / cm.sum(axis=1)[:, np.newaxis]\n",
        "        print(\"Normalized confusion matrix\")\n",
        "    else:\n",
        "        print('Confusion matrix, without normalization')\n",
        "\n",
        "    print(cm)\n",
        "\n",
        "    thresh = cm.max() / 2.\n",
        "    for i, j in itertools.product(range(cm.shape[0]), range(cm.shape[1])):\n",
        "        plt.text(j, i, cm[i, j],\n",
        "            horizontalalignment=\"center\",\n",
        "            color=\"white\" if cm[i, j] > thresh else \"black\")\n",
        "\n",
        "    plt.tight_layout()\n",
        "    plt.ylabel('True label')\n",
        "    plt.xlabel('Predicted label')\n",
        "\n",
        "cm_plot_labels = ['Empty', 'High', 'Low', 'Medium', 'Traffic Jam']\n",
        "plot_confusion_matrix(cm=cm, classes=cm_plot_labels)\n",
        "abc='Confusion Matrix_BatchNorm_250'\n",
        "plt.savefig(f'/mydrive/dataset/Saved Images/{abc}.png',bbox_inches=\"tight\",dpi=520)"
      ],
      "execution_count": null,
      "outputs": [
        {
          "output_type": "stream",
          "text": [
            "Confusion matrix, without normalization\n",
            "[[62  0  1  0  1]\n",
            " [ 0 56  0  8  0]\n",
            " [ 7  0 48  9  0]\n",
            " [ 0  8  7 49  0]\n",
            " [ 0  2  0  0 62]]\n"
          ],
          "name": "stdout"
        },
        {
          "output_type": "display_data",
          "data": {
            "image/png": "[encoded data removed]",
            "text/plain": [
              "<Figure size 432x288 with 2 Axes>"
            ]
          },
          "metadata": {
            "tags": [],
            "needs_background": "light"
          }
        }
      ]
    },
    {
      "cell_type": "code",
      "metadata": {
        "colab": {
          "base_uri": "https://localhost:8080/"
        },
        "id": "YnZtn3vDvcca",
        "outputId": "c795d584-9caf-4814-c335-563d28d28943"
      },
      "source": [
        "from sklearn.metrics import accuracy_score\n",
        "\n",
        "print('Prediction Accuracy:', \"{:.2f}\".format(100*accuracy_score(y_true, y_pred))+\"%\")"
      ],
      "execution_count": null,
      "outputs": [
        {
          "output_type": "stream",
          "text": [
            "Prediction Accuracy: 86.56%\n"
          ],
          "name": "stdout"
        }
      ]
    },
    {
      "cell_type": "code",
      "metadata": {
        "colab": {
          "base_uri": "https://localhost:8080/"
        },
        "id": "85UXDNzr8EzF",
        "outputId": "f3ab513c-ff7d-4853-9765-d788e7c234bd"
      },
      "source": [
        "import matplotlib.pyplot as plt\n",
        "%matplotlib inline \n",
        "!pip install scikit-plot\n",
        "import scikitplot as skplt\n",
        "from sklearn.metrics import classification_report\n",
        "\n",
        "class_labels = list(test_generator.class_indices.keys())\n",
        "report = classification_report(\n",
        "    y_true,\n",
        "    y_pred,\n",
        "    target_names=class_labels)\n",
        "print(report)"
      ],
      "execution_count": null,
      "outputs": [
        {
          "output_type": "stream",
          "text": [
            "Collecting scikit-plot\n",
            "  Downloading https://files.pythonhosted.org/packages/7c/47/32520e259340c140a4ad27c1b97050dd3254fdc517b1d59974d47037510e/scikit_plot-0.3.7-py3-none-any.whl\n",
            "Requirement already satisfied: matplotlib>=1.4.0 in /usr/local/lib/python3.7/dist-packages (from scikit-plot) (3.2.2)\n",
            "Requirement already satisfied: scipy>=0.9 in /usr/local/lib/python3.7/dist-packages (from scikit-plot) (1.4.1)\n",
            "Requirement already satisfied: scikit-learn>=0.18 in /usr/local/lib/python3.7/dist-packages (from scikit-plot) (0.22.2.post1)\n",
            "Requirement already satisfied: joblib>=0.10 in /usr/local/lib/python3.7/dist-packages (from scikit-plot) (1.0.1)\n",
            "Requirement already satisfied: cycler>=0.10 in /usr/local/lib/python3.7/dist-packages (from matplotlib>=1.4.0->scikit-plot) (0.10.0)\n",
            "Requirement already satisfied: kiwisolver>=1.0.1 in /usr/local/lib/python3.7/dist-packages (from matplotlib>=1.4.0->scikit-plot) (1.3.1)\n",
            "Requirement already satisfied: numpy>=1.11 in /usr/local/lib/python3.7/dist-packages (from matplotlib>=1.4.0->scikit-plot) (1.19.5)\n",
            "Requirement already satisfied: python-dateutil>=2.1 in /usr/local/lib/python3.7/dist-packages (from matplotlib>=1.4.0->scikit-plot) (2.8.1)\n",
            "Requirement already satisfied: pyparsing!=2.0.4,!=2.1.2,!=2.1.6,>=2.0.1 in /usr/local/lib/python3.7/dist-packages (from matplotlib>=1.4.0->scikit-plot) (2.4.7)\n",
            "Requirement already satisfied: six in /usr/local/lib/python3.7/dist-packages (from cycler>=0.10->matplotlib>=1.4.0->scikit-plot) (1.15.0)\n",
            "Installing collected packages: scikit-plot\n",
            "Successfully installed scikit-plot-0.3.7\n",
            "              precision    recall  f1-score   support\n",
            "\n",
            "       Empty       0.90      0.97      0.93        64\n",
            "        High       0.85      0.88      0.86        64\n",
            "         Low       0.86      0.75      0.80        64\n",
            "      Medium       0.74      0.77      0.75        64\n",
            " Traffic Jam       0.98      0.97      0.98        64\n",
            "\n",
            "    accuracy                           0.87       320\n",
            "   macro avg       0.87      0.87      0.86       320\n",
            "weighted avg       0.87      0.87      0.86       320\n",
            "\n"
          ],
          "name": "stdout"
        }
      ]
    },
    {
      "cell_type": "code",
      "metadata": {
        "colab": {
          "base_uri": "https://localhost:8080/",
          "height": 513
        },
        "id": "WwjufHLevceE",
        "outputId": "64ad74ca-d33f-41a8-ca6e-a7a9bc1b91b4"
      },
      "source": [
        "skplt.metrics.plot_precision_recall(\n",
        "    y_true,\n",
        "    predictions,\n",
        "    figsize=(8,8))\n",
        "abc='Precision Recall_BatchNorm_250_Final'\n",
        "plt.savefig(f'/mydrive/dataset/Saved Images Final/bOO/{abc}.png',bbox_inches=\"tight\",dpi=520)"
      ],
      "execution_count": null,
      "outputs": [
        {
          "output_type": "display_data",
          "data": {
            "image/png": "[encoded data removed]",
            "text/plain": [
              "<Figure size 576x576 with 1 Axes>"
            ]
          },
          "metadata": {
            "tags": [],
            "needs_background": "light"
          }
        }
      ]
    },
    {
      "cell_type": "code",
      "metadata": {
        "colab": {
          "base_uri": "https://localhost:8080/",
          "height": 513
        },
        "id": "ePlgPdfw8tXG",
        "outputId": "01adee8b-22e4-430a-f736-f02507453bfb"
      },
      "source": [
        "skplt.metrics.plot_roc(\n",
        "    y_true,\n",
        "    predictions,\n",
        "    figsize=(8,8))\n",
        "abc='ROC Curve_BatchNorm_250_Final'\n",
        "plt.savefig(f'/mydrive/dataset/Saved Images Final/bOO/{abc}.png',bbox_inches=\"tight\",dpi=520)"
      ],
      "execution_count": null,
      "outputs": [
        {
          "output_type": "display_data",
          "data": {
            "image/png": "[encoded data removed]",
            "text/plain": [
              "<Figure size 576x576 with 1 Axes>"
            ]
          },
          "metadata": {
            "tags": [],
            "needs_background": "light"
          }
        }
      ]
    },
    {
      "cell_type": "code",
      "metadata": {
        "colab": {
          "base_uri": "https://localhost:8080/"
        },
        "id": "GoCnoDSi85is",
        "outputId": "59404dfb-6023-422a-b77d-88e8e425bc03"
      },
      "source": [
        "from keras.utils import to_categorical\n",
        "\n",
        "val= to_categorical(test_generator.classes)\n",
        "print(val)"
      ],
      "execution_count": null,
      "outputs": [
        {
          "output_type": "stream",
          "text": [
            "[[1. 0. 0. 0. 0.]\n",
            " [1. 0. 0. 0. 0.]\n",
            " [1. 0. 0. 0. 0.]\n",
            " ...\n",
            " [0. 0. 0. 0. 1.]\n",
            " [0. 0. 0. 0. 1.]\n",
            " [0. 0. 0. 0. 1.]]\n"
          ],
          "name": "stdout"
        }
      ]
    },
    {
      "cell_type": "code",
      "metadata": {
        "id": "zCvLhlZ48_YO",
        "colab": {
          "base_uri": "https://localhost:8080/"
        },
        "outputId": "05fdc09d-f5e6-467f-c92e-6b15162f67cc"
      },
      "source": [
        "def top_n_accuracy(preds, truths, n):\n",
        "    best_n = np.argsort(preds, axis=-1)[:,-n:]\n",
        "    ts = np.argmax(truths, axis=1)\n",
        "    successes = 0\n",
        "    for i in range(ts.shape[0]):\n",
        "      if ts[i] in best_n[i,:]:\n",
        "        successes += 1\n",
        "    return float(successes)/ts.shape[0]\n",
        "\n",
        "print('Top 2 Accuracy:', \"{:.2f}\".format(100*top_n_accuracy(preds=predictions, truths=val, n=2))+\"%\")"
      ],
      "execution_count": null,
      "outputs": [
        {
          "output_type": "stream",
          "text": [
            "Top 2 Accuracy: 99.06%\n"
          ],
          "name": "stdout"
        }
      ]
    }
  ]
}